{
 "cells": [
  {
   "cell_type": "markdown",
   "id": "29799ac6-ec55-4849-b30d-de5f7cf5eb81",
   "metadata": {},
   "source": [
    "# Medical Provider Fraud Detection Analysis"
   ]
  },
  {
   "cell_type": "code",
   "execution_count": 2,
   "id": "7d9e5f7d-d987-4be8-b9f6-ba4c5a6cbf90",
   "metadata": {},
   "outputs": [
    {
     "name": "stdout",
     "output_type": "stream",
     "text": [
      "Requirement already satisfied: xgboost in /srv/conda/envs/notebook/lib/python3.10/site-packages (1.7.4)\n",
      "Requirement already satisfied: numpy in /srv/conda/envs/notebook/lib/python3.10/site-packages (from xgboost) (1.23.5)\n",
      "Requirement already satisfied: scipy in /srv/conda/envs/notebook/lib/python3.10/site-packages (from xgboost) (1.10.0)\n"
     ]
    }
   ],
   "source": [
    "!pip install xgboost\n",
    "\n",
    "import pandas as pd\n",
    "import numpy as np\n",
    "import matplotlib.pyplot as plt\n",
    "from datetime import datetime\n",
    "import seaborn as sns\n",
    "from sklearn.model_selection import train_test_split\n",
    "from sklearn.linear_model import LogisticRegression\n",
    "from sklearn.metrics import precision_recall_fscore_support\n",
    "from xgboost import XGBClassifier\n",
    "from sklearn.metrics import accuracy_score"
   ]
  },
  {
   "cell_type": "code",
   "execution_count": 69,
   "id": "ea9d62ae-e268-4eea-b88f-d5ce804e94bb",
   "metadata": {},
   "outputs": [
    {
     "data": {
      "text/html": [
       "<div>\n",
       "<style scoped>\n",
       "    .dataframe tbody tr th:only-of-type {\n",
       "        vertical-align: middle;\n",
       "    }\n",
       "\n",
       "    .dataframe tbody tr th {\n",
       "        vertical-align: top;\n",
       "    }\n",
       "\n",
       "    .dataframe thead th {\n",
       "        text-align: right;\n",
       "    }\n",
       "</style>\n",
       "<table border=\"1\" class=\"dataframe\">\n",
       "  <thead>\n",
       "    <tr style=\"text-align: right;\">\n",
       "      <th></th>\n",
       "      <th>BeneID</th>\n",
       "      <th>ClaimID</th>\n",
       "      <th>ClaimStartDt</th>\n",
       "      <th>ClaimEndDt</th>\n",
       "      <th>Provider</th>\n",
       "      <th>InscClaimAmtReimbursed</th>\n",
       "      <th>AttendingPhysician</th>\n",
       "      <th>OperatingPhysician</th>\n",
       "      <th>OtherPhysician</th>\n",
       "      <th>ClmDiagnosisCode_1</th>\n",
       "      <th>...</th>\n",
       "      <th>ChronicCond_IschemicHeart</th>\n",
       "      <th>ChronicCond_Osteoporasis</th>\n",
       "      <th>ChronicCond_rheumatoidarthritis</th>\n",
       "      <th>ChronicCond_stroke</th>\n",
       "      <th>IPAnnualReimbursementAmt</th>\n",
       "      <th>IPAnnualDeductibleAmt</th>\n",
       "      <th>OPAnnualReimbursementAmt</th>\n",
       "      <th>OPAnnualDeductibleAmt</th>\n",
       "      <th>PotentialFraud</th>\n",
       "      <th>Label</th>\n",
       "    </tr>\n",
       "  </thead>\n",
       "  <tbody>\n",
       "    <tr>\n",
       "      <th>0</th>\n",
       "      <td>BENE11002</td>\n",
       "      <td>CLM624349</td>\n",
       "      <td>2009-10-11</td>\n",
       "      <td>2009-10-11</td>\n",
       "      <td>PRV56011</td>\n",
       "      <td>30</td>\n",
       "      <td>PHY326117</td>\n",
       "      <td>NaN</td>\n",
       "      <td>NaN</td>\n",
       "      <td>78943</td>\n",
       "      <td>...</td>\n",
       "      <td>2</td>\n",
       "      <td>2</td>\n",
       "      <td>2</td>\n",
       "      <td>2</td>\n",
       "      <td>0</td>\n",
       "      <td>0</td>\n",
       "      <td>30</td>\n",
       "      <td>50</td>\n",
       "      <td>Yes</td>\n",
       "      <td>1</td>\n",
       "    </tr>\n",
       "    <tr>\n",
       "      <th>1</th>\n",
       "      <td>BENE11004</td>\n",
       "      <td>CLM121801</td>\n",
       "      <td>2009-01-06</td>\n",
       "      <td>2009-01-06</td>\n",
       "      <td>PRV56011</td>\n",
       "      <td>40</td>\n",
       "      <td>PHY334319</td>\n",
       "      <td>NaN</td>\n",
       "      <td>NaN</td>\n",
       "      <td>71988</td>\n",
       "      <td>...</td>\n",
       "      <td>1</td>\n",
       "      <td>1</td>\n",
       "      <td>1</td>\n",
       "      <td>2</td>\n",
       "      <td>0</td>\n",
       "      <td>0</td>\n",
       "      <td>1810</td>\n",
       "      <td>760</td>\n",
       "      <td>Yes</td>\n",
       "      <td>1</td>\n",
       "    </tr>\n",
       "    <tr>\n",
       "      <th>2</th>\n",
       "      <td>BENE11004</td>\n",
       "      <td>CLM150998</td>\n",
       "      <td>2009-01-22</td>\n",
       "      <td>2009-01-22</td>\n",
       "      <td>PRV56011</td>\n",
       "      <td>200</td>\n",
       "      <td>PHY403831</td>\n",
       "      <td>NaN</td>\n",
       "      <td>NaN</td>\n",
       "      <td>82382</td>\n",
       "      <td>...</td>\n",
       "      <td>1</td>\n",
       "      <td>1</td>\n",
       "      <td>1</td>\n",
       "      <td>2</td>\n",
       "      <td>0</td>\n",
       "      <td>0</td>\n",
       "      <td>1810</td>\n",
       "      <td>760</td>\n",
       "      <td>Yes</td>\n",
       "      <td>1</td>\n",
       "    </tr>\n",
       "    <tr>\n",
       "      <th>3</th>\n",
       "      <td>BENE11004</td>\n",
       "      <td>CLM173224</td>\n",
       "      <td>2009-02-03</td>\n",
       "      <td>2009-02-03</td>\n",
       "      <td>PRV56011</td>\n",
       "      <td>20</td>\n",
       "      <td>PHY339887</td>\n",
       "      <td>NaN</td>\n",
       "      <td>NaN</td>\n",
       "      <td>20381</td>\n",
       "      <td>...</td>\n",
       "      <td>1</td>\n",
       "      <td>1</td>\n",
       "      <td>1</td>\n",
       "      <td>2</td>\n",
       "      <td>0</td>\n",
       "      <td>0</td>\n",
       "      <td>1810</td>\n",
       "      <td>760</td>\n",
       "      <td>Yes</td>\n",
       "      <td>1</td>\n",
       "    </tr>\n",
       "    <tr>\n",
       "      <th>4</th>\n",
       "      <td>BENE11004</td>\n",
       "      <td>CLM224741</td>\n",
       "      <td>2009-03-03</td>\n",
       "      <td>2009-03-03</td>\n",
       "      <td>PRV56011</td>\n",
       "      <td>40</td>\n",
       "      <td>PHY345721</td>\n",
       "      <td>NaN</td>\n",
       "      <td>NaN</td>\n",
       "      <td>V6546</td>\n",
       "      <td>...</td>\n",
       "      <td>1</td>\n",
       "      <td>1</td>\n",
       "      <td>1</td>\n",
       "      <td>2</td>\n",
       "      <td>0</td>\n",
       "      <td>0</td>\n",
       "      <td>1810</td>\n",
       "      <td>760</td>\n",
       "      <td>Yes</td>\n",
       "      <td>1</td>\n",
       "    </tr>\n",
       "  </tbody>\n",
       "</table>\n",
       "<p>5 rows × 53 columns</p>\n",
       "</div>"
      ],
      "text/plain": [
       "      BeneID    ClaimID ClaimStartDt  ClaimEndDt  Provider  \\\n",
       "0  BENE11002  CLM624349   2009-10-11  2009-10-11  PRV56011   \n",
       "1  BENE11004  CLM121801   2009-01-06  2009-01-06  PRV56011   \n",
       "2  BENE11004  CLM150998   2009-01-22  2009-01-22  PRV56011   \n",
       "3  BENE11004  CLM173224   2009-02-03  2009-02-03  PRV56011   \n",
       "4  BENE11004  CLM224741   2009-03-03  2009-03-03  PRV56011   \n",
       "\n",
       "   InscClaimAmtReimbursed AttendingPhysician OperatingPhysician  \\\n",
       "0                      30          PHY326117                NaN   \n",
       "1                      40          PHY334319                NaN   \n",
       "2                     200          PHY403831                NaN   \n",
       "3                      20          PHY339887                NaN   \n",
       "4                      40          PHY345721                NaN   \n",
       "\n",
       "  OtherPhysician ClmDiagnosisCode_1  ... ChronicCond_IschemicHeart  \\\n",
       "0            NaN              78943  ...                         2   \n",
       "1            NaN              71988  ...                         1   \n",
       "2            NaN              82382  ...                         1   \n",
       "3            NaN              20381  ...                         1   \n",
       "4            NaN              V6546  ...                         1   \n",
       "\n",
       "  ChronicCond_Osteoporasis ChronicCond_rheumatoidarthritis ChronicCond_stroke  \\\n",
       "0                        2                               2                  2   \n",
       "1                        1                               1                  2   \n",
       "2                        1                               1                  2   \n",
       "3                        1                               1                  2   \n",
       "4                        1                               1                  2   \n",
       "\n",
       "  IPAnnualReimbursementAmt IPAnnualDeductibleAmt OPAnnualReimbursementAmt  \\\n",
       "0                        0                     0                       30   \n",
       "1                        0                     0                     1810   \n",
       "2                        0                     0                     1810   \n",
       "3                        0                     0                     1810   \n",
       "4                        0                     0                     1810   \n",
       "\n",
       "  OPAnnualDeductibleAmt PotentialFraud  Label  \n",
       "0                    50            Yes      1  \n",
       "1                   760            Yes      1  \n",
       "2                   760            Yes      1  \n",
       "3                   760            Yes      1  \n",
       "4                   760            Yes      1  \n",
       "\n",
       "[5 rows x 53 columns]"
      ]
     },
     "execution_count": 69,
     "metadata": {},
     "output_type": "execute_result"
    }
   ],
   "source": [
    "train_out = pd.read_csv('data/Train_Outpatientdata.csv')\n",
    "train_in = pd.read_csv('data/Train_Inpatientdata.csv')\n",
    "train_ben = pd.read_csv('data/Train_Beneficiarydata.csv')\n",
    "train_label = pd.read_csv('data/Train.csv')\n",
    "\n",
    "train_out = train_out.merge(train_ben, on='BeneID', how='inner')\n",
    "train_out = train_out.merge(train_label, on='Provider', how='inner')\n",
    "\n",
    "train_in = train_in.merge(train_ben, on='BeneID', how='inner')\n",
    "train_in = train_in.merge(train_label, on='Provider', how='inner')\n",
    "\n",
    "train_out['Label'] = np.where(train_out['PotentialFraud'] == 'Yes', 1, 0)\n",
    "train_out.head()"
   ]
  },
  {
   "cell_type": "code",
   "execution_count": 15,
   "id": "7a14103c-78a5-4364-aed6-61d5d9846f67",
   "metadata": {},
   "outputs": [
    {
     "data": {
      "text/plain": [
       "(517737, 53)"
      ]
     },
     "execution_count": 15,
     "metadata": {},
     "output_type": "execute_result"
    }
   ],
   "source": [
    "train_out.shape"
   ]
  },
  {
   "cell_type": "code",
   "execution_count": 70,
   "id": "1993f4a5-c32b-46c2-804c-9280be80b1f9",
   "metadata": {},
   "outputs": [
    {
     "data": {
      "text/html": [
       "<div>\n",
       "<style scoped>\n",
       "    .dataframe tbody tr th:only-of-type {\n",
       "        vertical-align: middle;\n",
       "    }\n",
       "\n",
       "    .dataframe tbody tr th {\n",
       "        vertical-align: top;\n",
       "    }\n",
       "\n",
       "    .dataframe thead th {\n",
       "        text-align: right;\n",
       "    }\n",
       "</style>\n",
       "<table border=\"1\" class=\"dataframe\">\n",
       "  <thead>\n",
       "    <tr style=\"text-align: right;\">\n",
       "      <th></th>\n",
       "      <th>BeneID</th>\n",
       "      <th>ClaimID</th>\n",
       "      <th>ClaimStartDt</th>\n",
       "      <th>ClaimEndDt</th>\n",
       "      <th>Provider</th>\n",
       "      <th>InscClaimAmtReimbursed</th>\n",
       "      <th>AttendingPhysician</th>\n",
       "      <th>OperatingPhysician</th>\n",
       "      <th>OtherPhysician</th>\n",
       "      <th>AdmissionDt</th>\n",
       "      <th>...</th>\n",
       "      <th>ChronicCond_IschemicHeart</th>\n",
       "      <th>ChronicCond_Osteoporasis</th>\n",
       "      <th>ChronicCond_rheumatoidarthritis</th>\n",
       "      <th>ChronicCond_stroke</th>\n",
       "      <th>IPAnnualReimbursementAmt</th>\n",
       "      <th>IPAnnualDeductibleAmt</th>\n",
       "      <th>OPAnnualReimbursementAmt</th>\n",
       "      <th>OPAnnualDeductibleAmt</th>\n",
       "      <th>PotentialFraud</th>\n",
       "      <th>Label</th>\n",
       "    </tr>\n",
       "  </thead>\n",
       "  <tbody>\n",
       "    <tr>\n",
       "      <th>0</th>\n",
       "      <td>BENE11001</td>\n",
       "      <td>CLM46614</td>\n",
       "      <td>2009-04-12</td>\n",
       "      <td>2009-04-18</td>\n",
       "      <td>PRV55912</td>\n",
       "      <td>26000</td>\n",
       "      <td>PHY390922</td>\n",
       "      <td>NaN</td>\n",
       "      <td>NaN</td>\n",
       "      <td>2009-04-12</td>\n",
       "      <td>...</td>\n",
       "      <td>1</td>\n",
       "      <td>2</td>\n",
       "      <td>1</td>\n",
       "      <td>1</td>\n",
       "      <td>36000</td>\n",
       "      <td>3204</td>\n",
       "      <td>60</td>\n",
       "      <td>70</td>\n",
       "      <td>Yes</td>\n",
       "      <td>1</td>\n",
       "    </tr>\n",
       "    <tr>\n",
       "      <th>1</th>\n",
       "      <td>BENE17521</td>\n",
       "      <td>CLM34721</td>\n",
       "      <td>2009-01-20</td>\n",
       "      <td>2009-02-01</td>\n",
       "      <td>PRV55912</td>\n",
       "      <td>19000</td>\n",
       "      <td>PHY349293</td>\n",
       "      <td>PHY370861</td>\n",
       "      <td>PHY363291</td>\n",
       "      <td>2009-01-20</td>\n",
       "      <td>...</td>\n",
       "      <td>1</td>\n",
       "      <td>2</td>\n",
       "      <td>2</td>\n",
       "      <td>2</td>\n",
       "      <td>19000</td>\n",
       "      <td>1068</td>\n",
       "      <td>100</td>\n",
       "      <td>20</td>\n",
       "      <td>Yes</td>\n",
       "      <td>1</td>\n",
       "    </tr>\n",
       "    <tr>\n",
       "      <th>2</th>\n",
       "      <td>BENE21718</td>\n",
       "      <td>CLM72336</td>\n",
       "      <td>2009-10-17</td>\n",
       "      <td>2009-11-04</td>\n",
       "      <td>PRV55912</td>\n",
       "      <td>17000</td>\n",
       "      <td>PHY334706</td>\n",
       "      <td>PHY334706</td>\n",
       "      <td>NaN</td>\n",
       "      <td>2009-10-17</td>\n",
       "      <td>...</td>\n",
       "      <td>1</td>\n",
       "      <td>1</td>\n",
       "      <td>2</td>\n",
       "      <td>2</td>\n",
       "      <td>17000</td>\n",
       "      <td>1068</td>\n",
       "      <td>1050</td>\n",
       "      <td>540</td>\n",
       "      <td>Yes</td>\n",
       "      <td>1</td>\n",
       "    </tr>\n",
       "    <tr>\n",
       "      <th>3</th>\n",
       "      <td>BENE22934</td>\n",
       "      <td>CLM73394</td>\n",
       "      <td>2009-10-25</td>\n",
       "      <td>2009-10-29</td>\n",
       "      <td>PRV55912</td>\n",
       "      <td>13000</td>\n",
       "      <td>PHY390614</td>\n",
       "      <td>PHY323689</td>\n",
       "      <td>PHY363291</td>\n",
       "      <td>2009-10-25</td>\n",
       "      <td>...</td>\n",
       "      <td>1</td>\n",
       "      <td>1</td>\n",
       "      <td>1</td>\n",
       "      <td>2</td>\n",
       "      <td>27000</td>\n",
       "      <td>2136</td>\n",
       "      <td>450</td>\n",
       "      <td>160</td>\n",
       "      <td>Yes</td>\n",
       "      <td>1</td>\n",
       "    </tr>\n",
       "    <tr>\n",
       "      <th>4</th>\n",
       "      <td>BENE24402</td>\n",
       "      <td>CLM32911</td>\n",
       "      <td>2009-01-08</td>\n",
       "      <td>2009-01-12</td>\n",
       "      <td>PRV55912</td>\n",
       "      <td>3000</td>\n",
       "      <td>PHY380413</td>\n",
       "      <td>PHY432598</td>\n",
       "      <td>NaN</td>\n",
       "      <td>2009-01-08</td>\n",
       "      <td>...</td>\n",
       "      <td>1</td>\n",
       "      <td>2</td>\n",
       "      <td>2</td>\n",
       "      <td>2</td>\n",
       "      <td>3000</td>\n",
       "      <td>1068</td>\n",
       "      <td>8900</td>\n",
       "      <td>740</td>\n",
       "      <td>Yes</td>\n",
       "      <td>1</td>\n",
       "    </tr>\n",
       "  </tbody>\n",
       "</table>\n",
       "<p>5 rows × 56 columns</p>\n",
       "</div>"
      ],
      "text/plain": [
       "      BeneID   ClaimID ClaimStartDt  ClaimEndDt  Provider  \\\n",
       "0  BENE11001  CLM46614   2009-04-12  2009-04-18  PRV55912   \n",
       "1  BENE17521  CLM34721   2009-01-20  2009-02-01  PRV55912   \n",
       "2  BENE21718  CLM72336   2009-10-17  2009-11-04  PRV55912   \n",
       "3  BENE22934  CLM73394   2009-10-25  2009-10-29  PRV55912   \n",
       "4  BENE24402  CLM32911   2009-01-08  2009-01-12  PRV55912   \n",
       "\n",
       "   InscClaimAmtReimbursed AttendingPhysician OperatingPhysician  \\\n",
       "0                   26000          PHY390922                NaN   \n",
       "1                   19000          PHY349293          PHY370861   \n",
       "2                   17000          PHY334706          PHY334706   \n",
       "3                   13000          PHY390614          PHY323689   \n",
       "4                    3000          PHY380413          PHY432598   \n",
       "\n",
       "  OtherPhysician AdmissionDt  ... ChronicCond_IschemicHeart  \\\n",
       "0            NaN  2009-04-12  ...                         1   \n",
       "1      PHY363291  2009-01-20  ...                         1   \n",
       "2            NaN  2009-10-17  ...                         1   \n",
       "3      PHY363291  2009-10-25  ...                         1   \n",
       "4            NaN  2009-01-08  ...                         1   \n",
       "\n",
       "   ChronicCond_Osteoporasis ChronicCond_rheumatoidarthritis  \\\n",
       "0                         2                               1   \n",
       "1                         2                               2   \n",
       "2                         1                               2   \n",
       "3                         1                               1   \n",
       "4                         2                               2   \n",
       "\n",
       "  ChronicCond_stroke IPAnnualReimbursementAmt IPAnnualDeductibleAmt  \\\n",
       "0                  1                    36000                  3204   \n",
       "1                  2                    19000                  1068   \n",
       "2                  2                    17000                  1068   \n",
       "3                  2                    27000                  2136   \n",
       "4                  2                     3000                  1068   \n",
       "\n",
       "  OPAnnualReimbursementAmt OPAnnualDeductibleAmt PotentialFraud Label  \n",
       "0                       60                    70            Yes     1  \n",
       "1                      100                    20            Yes     1  \n",
       "2                     1050                   540            Yes     1  \n",
       "3                      450                   160            Yes     1  \n",
       "4                     8900                   740            Yes     1  \n",
       "\n",
       "[5 rows x 56 columns]"
      ]
     },
     "execution_count": 70,
     "metadata": {},
     "output_type": "execute_result"
    }
   ],
   "source": [
    "train_in['Label'] = np.where(train_in['PotentialFraud'] == 'Yes', 1, 0)\n",
    "train_in.head()"
   ]
  },
  {
   "cell_type": "code",
   "execution_count": 85,
   "id": "e856e20d-9800-4172-8365-9720a6775f91",
   "metadata": {},
   "outputs": [
    {
     "name": "stderr",
     "output_type": "stream",
     "text": [
      "/tmp/ipykernel_1967/1069288541.py:3: FutureWarning: The frame.append method is deprecated and will be removed from pandas in a future version. Use pandas.concat instead.\n",
      "  full_train = train_out.append(train_in)\n"
     ]
    },
    {
     "data": {
      "text/html": [
       "<div>\n",
       "<style scoped>\n",
       "    .dataframe tbody tr th:only-of-type {\n",
       "        vertical-align: middle;\n",
       "    }\n",
       "\n",
       "    .dataframe tbody tr th {\n",
       "        vertical-align: top;\n",
       "    }\n",
       "\n",
       "    .dataframe thead th {\n",
       "        text-align: right;\n",
       "    }\n",
       "</style>\n",
       "<table border=\"1\" class=\"dataframe\">\n",
       "  <thead>\n",
       "    <tr style=\"text-align: right;\">\n",
       "      <th></th>\n",
       "      <th>BeneID</th>\n",
       "      <th>ClaimID</th>\n",
       "      <th>ClaimStartDt</th>\n",
       "      <th>ClaimEndDt</th>\n",
       "      <th>Provider</th>\n",
       "      <th>InscClaimAmtReimbursed</th>\n",
       "      <th>AttendingPhysician</th>\n",
       "      <th>OperatingPhysician</th>\n",
       "      <th>OtherPhysician</th>\n",
       "      <th>ClmDiagnosisCode_1</th>\n",
       "      <th>...</th>\n",
       "      <th>IPAnnualReimbursementAmt</th>\n",
       "      <th>IPAnnualDeductibleAmt</th>\n",
       "      <th>OPAnnualReimbursementAmt</th>\n",
       "      <th>OPAnnualDeductibleAmt</th>\n",
       "      <th>PotentialFraud</th>\n",
       "      <th>Label</th>\n",
       "      <th>Outpatient</th>\n",
       "      <th>AdmissionDt</th>\n",
       "      <th>DischargeDt</th>\n",
       "      <th>DiagnosisGroupCode</th>\n",
       "    </tr>\n",
       "  </thead>\n",
       "  <tbody>\n",
       "    <tr>\n",
       "      <th>0</th>\n",
       "      <td>BENE11002</td>\n",
       "      <td>CLM624349</td>\n",
       "      <td>2009-10-11</td>\n",
       "      <td>2009-10-11</td>\n",
       "      <td>PRV56011</td>\n",
       "      <td>30</td>\n",
       "      <td>PHY326117</td>\n",
       "      <td>NaN</td>\n",
       "      <td>NaN</td>\n",
       "      <td>78943</td>\n",
       "      <td>...</td>\n",
       "      <td>0</td>\n",
       "      <td>0</td>\n",
       "      <td>30</td>\n",
       "      <td>50</td>\n",
       "      <td>Yes</td>\n",
       "      <td>1</td>\n",
       "      <td>1</td>\n",
       "      <td>NaN</td>\n",
       "      <td>NaN</td>\n",
       "      <td>NaN</td>\n",
       "    </tr>\n",
       "    <tr>\n",
       "      <th>1</th>\n",
       "      <td>BENE11004</td>\n",
       "      <td>CLM121801</td>\n",
       "      <td>2009-01-06</td>\n",
       "      <td>2009-01-06</td>\n",
       "      <td>PRV56011</td>\n",
       "      <td>40</td>\n",
       "      <td>PHY334319</td>\n",
       "      <td>NaN</td>\n",
       "      <td>NaN</td>\n",
       "      <td>71988</td>\n",
       "      <td>...</td>\n",
       "      <td>0</td>\n",
       "      <td>0</td>\n",
       "      <td>1810</td>\n",
       "      <td>760</td>\n",
       "      <td>Yes</td>\n",
       "      <td>1</td>\n",
       "      <td>1</td>\n",
       "      <td>NaN</td>\n",
       "      <td>NaN</td>\n",
       "      <td>NaN</td>\n",
       "    </tr>\n",
       "    <tr>\n",
       "      <th>2</th>\n",
       "      <td>BENE11004</td>\n",
       "      <td>CLM150998</td>\n",
       "      <td>2009-01-22</td>\n",
       "      <td>2009-01-22</td>\n",
       "      <td>PRV56011</td>\n",
       "      <td>200</td>\n",
       "      <td>PHY403831</td>\n",
       "      <td>NaN</td>\n",
       "      <td>NaN</td>\n",
       "      <td>82382</td>\n",
       "      <td>...</td>\n",
       "      <td>0</td>\n",
       "      <td>0</td>\n",
       "      <td>1810</td>\n",
       "      <td>760</td>\n",
       "      <td>Yes</td>\n",
       "      <td>1</td>\n",
       "      <td>1</td>\n",
       "      <td>NaN</td>\n",
       "      <td>NaN</td>\n",
       "      <td>NaN</td>\n",
       "    </tr>\n",
       "    <tr>\n",
       "      <th>3</th>\n",
       "      <td>BENE11004</td>\n",
       "      <td>CLM173224</td>\n",
       "      <td>2009-02-03</td>\n",
       "      <td>2009-02-03</td>\n",
       "      <td>PRV56011</td>\n",
       "      <td>20</td>\n",
       "      <td>PHY339887</td>\n",
       "      <td>NaN</td>\n",
       "      <td>NaN</td>\n",
       "      <td>20381</td>\n",
       "      <td>...</td>\n",
       "      <td>0</td>\n",
       "      <td>0</td>\n",
       "      <td>1810</td>\n",
       "      <td>760</td>\n",
       "      <td>Yes</td>\n",
       "      <td>1</td>\n",
       "      <td>1</td>\n",
       "      <td>NaN</td>\n",
       "      <td>NaN</td>\n",
       "      <td>NaN</td>\n",
       "    </tr>\n",
       "    <tr>\n",
       "      <th>4</th>\n",
       "      <td>BENE11004</td>\n",
       "      <td>CLM224741</td>\n",
       "      <td>2009-03-03</td>\n",
       "      <td>2009-03-03</td>\n",
       "      <td>PRV56011</td>\n",
       "      <td>40</td>\n",
       "      <td>PHY345721</td>\n",
       "      <td>NaN</td>\n",
       "      <td>NaN</td>\n",
       "      <td>V6546</td>\n",
       "      <td>...</td>\n",
       "      <td>0</td>\n",
       "      <td>0</td>\n",
       "      <td>1810</td>\n",
       "      <td>760</td>\n",
       "      <td>Yes</td>\n",
       "      <td>1</td>\n",
       "      <td>1</td>\n",
       "      <td>NaN</td>\n",
       "      <td>NaN</td>\n",
       "      <td>NaN</td>\n",
       "    </tr>\n",
       "  </tbody>\n",
       "</table>\n",
       "<p>5 rows × 57 columns</p>\n",
       "</div>"
      ],
      "text/plain": [
       "      BeneID    ClaimID ClaimStartDt  ClaimEndDt  Provider  \\\n",
       "0  BENE11002  CLM624349   2009-10-11  2009-10-11  PRV56011   \n",
       "1  BENE11004  CLM121801   2009-01-06  2009-01-06  PRV56011   \n",
       "2  BENE11004  CLM150998   2009-01-22  2009-01-22  PRV56011   \n",
       "3  BENE11004  CLM173224   2009-02-03  2009-02-03  PRV56011   \n",
       "4  BENE11004  CLM224741   2009-03-03  2009-03-03  PRV56011   \n",
       "\n",
       "   InscClaimAmtReimbursed AttendingPhysician OperatingPhysician  \\\n",
       "0                      30          PHY326117                NaN   \n",
       "1                      40          PHY334319                NaN   \n",
       "2                     200          PHY403831                NaN   \n",
       "3                      20          PHY339887                NaN   \n",
       "4                      40          PHY345721                NaN   \n",
       "\n",
       "  OtherPhysician ClmDiagnosisCode_1  ... IPAnnualReimbursementAmt  \\\n",
       "0            NaN              78943  ...                        0   \n",
       "1            NaN              71988  ...                        0   \n",
       "2            NaN              82382  ...                        0   \n",
       "3            NaN              20381  ...                        0   \n",
       "4            NaN              V6546  ...                        0   \n",
       "\n",
       "  IPAnnualDeductibleAmt OPAnnualReimbursementAmt OPAnnualDeductibleAmt  \\\n",
       "0                     0                       30                    50   \n",
       "1                     0                     1810                   760   \n",
       "2                     0                     1810                   760   \n",
       "3                     0                     1810                   760   \n",
       "4                     0                     1810                   760   \n",
       "\n",
       "  PotentialFraud Label Outpatient AdmissionDt DischargeDt  DiagnosisGroupCode  \n",
       "0            Yes     1          1         NaN         NaN                 NaN  \n",
       "1            Yes     1          1         NaN         NaN                 NaN  \n",
       "2            Yes     1          1         NaN         NaN                 NaN  \n",
       "3            Yes     1          1         NaN         NaN                 NaN  \n",
       "4            Yes     1          1         NaN         NaN                 NaN  \n",
       "\n",
       "[5 rows x 57 columns]"
      ]
     },
     "execution_count": 85,
     "metadata": {},
     "output_type": "execute_result"
    }
   ],
   "source": [
    "train_out['Outpatient'] = 1\n",
    "train_in['Outpatient'] = 0\n",
    "full_train = train_out.append(train_in)\n",
    "full_train.head()"
   ]
  },
  {
   "cell_type": "markdown",
   "id": "c5716625-3fe0-48fe-820d-ee97fe31e9f0",
   "metadata": {
    "tags": []
   },
   "source": [
    "# EDA"
   ]
  },
  {
   "cell_type": "markdown",
   "id": "676da664-85e2-46d8-a687-d0cfa80cb10d",
   "metadata": {},
   "source": [
    "# EDA"
   ]
  },
  {
   "cell_type": "code",
   "execution_count": 18,
   "id": "af4046e7-e433-48f7-aff5-ec8329a0687d",
   "metadata": {},
   "outputs": [
    {
     "data": {
      "image/png": "[encoded data removed]",
      "text/plain": [
       "<Figure size 640x480 with 1 Axes>"
      ]
     },
     "metadata": {},
     "output_type": "display_data"
    }
   ],
   "source": [
    "sns.countplot(data=full_train, x='Label');"
   ]
  },
  {
   "cell_type": "code",
   "execution_count": 19,
   "id": "0d430090-2832-4fd8-a947-3e2b5cadb16b",
   "metadata": {},
   "outputs": [
    {
     "data": {
      "image/png": "[encoded data removed]",
      "text/plain": [
       "<Figure size 640x480 with 1 Axes>"
      ]
     },
     "metadata": {},
     "output_type": "display_data"
    }
   ],
   "source": [
    "train_nofraud = full_train[full_train['Label']==0]\n",
    "train_fraud = full_train[full_train['Label']==1]\n",
    "sns.countplot(x='ClmProcedureCode_1', data=train_nofraud, order=train_nofraud['ClmProcedureCode_1'].value_counts().sort_values(ascending=False).index[1:11])\n",
    "\n",
    "plt.title('Non fraud data codes');"
   ]
  },
  {
   "cell_type": "code",
   "execution_count": 20,
   "id": "8f062055",
   "metadata": {},
   "outputs": [
    {
     "data": {
      "image/png": "[encoded data removed]",
      "text/plain": [
       "<Figure size 640x480 with 1 Axes>"
      ]
     },
     "metadata": {},
     "output_type": "display_data"
    }
   ],
   "source": [
    "sns.countplot(x='ClmProcedureCode_1', data=train_fraud, order=train_fraud['ClmProcedureCode_1'].value_counts().sort_values(ascending=False).index[1:11])\n",
    "plt.title('Fraud data codes');"
   ]
  },
  {
   "cell_type": "code",
   "execution_count": 21,
   "id": "b3811cd5",
   "metadata": {},
   "outputs": [],
   "source": [
    "important_clm_codes = np.unique(np.append(train_fraud['ClmProcedureCode_1'].value_counts().index[1:25], train_nofraud['ClmProcedureCode_1'].value_counts().index[1:25]))"
   ]
  },
  {
   "cell_type": "code",
   "execution_count": 22,
   "id": "2da0e182",
   "metadata": {},
   "outputs": [
    {
     "data": {
      "image/png": "[encoded data removed]",
      "text/plain": [
       "<Figure size 640x480 with 1 Axes>"
      ]
     },
     "metadata": {},
     "output_type": "display_data"
    }
   ],
   "source": [
    "sns.countplot(x='ClmProcedureCode_1',hue='PotentialFraud',data=full_train, order=full_train['ClmProcedureCode_1'].value_counts().index[1:11]);\n",
    "#9904 - transfusion of packed cells\n",
    "#4516 - EGD"
   ]
  },
  {
   "cell_type": "code",
   "execution_count": 23,
   "id": "62fe171c",
   "metadata": {},
   "outputs": [
    {
     "data": {
      "image/png": "[encoded data removed]",
      "text/plain": [
       "<Figure size 640x480 with 1 Axes>"
      ]
     },
     "metadata": {},
     "output_type": "display_data"
    }
   ],
   "source": [
    "sns.countplot(x='ClmDiagnosisCode_1',hue='PotentialFraud',data=full_train, order=full_train['ClmDiagnosisCode_1'].value_counts().index[1:11]);"
   ]
  },
  {
   "cell_type": "code",
   "execution_count": 24,
   "id": "46d591fe",
   "metadata": {},
   "outputs": [
    {
     "data": {
      "image/png": "[encoded data removed]",
      "text/plain": [
       "<Figure size 640x480 with 1 Axes>"
      ]
     },
     "metadata": {},
     "output_type": "display_data"
    }
   ],
   "source": [
    "sns.countplot(x='ClmDiagnosisCode_1', data=train_fraud, order=train_fraud['ClmDiagnosisCode_1'].value_counts().sort_values(ascending=False).index[1:11]);\n",
    "plt.title('Fraud data codes');"
   ]
  },
  {
   "cell_type": "code",
   "execution_count": 25,
   "id": "5017d3a3",
   "metadata": {},
   "outputs": [
    {
     "data": {
      "image/png": "[encoded data removed]",
      "text/plain": [
       "<Figure size 640x480 with 1 Axes>"
      ]
     },
     "metadata": {},
     "output_type": "display_data"
    }
   ],
   "source": [
    "sns.countplot(x='ClmDiagnosisCode_1', data=train_nofraud, order=train_nofraud['ClmDiagnosisCode_1'].value_counts().sort_values(ascending=False).index[1:11]);\n",
    "plt.title('Non fraud data codes');"
   ]
  },
  {
   "cell_type": "code",
   "execution_count": 26,
   "id": "e79f4374",
   "metadata": {},
   "outputs": [],
   "source": [
    "important_diag_codes = np.unique(np.append(train_fraud['ClmDiagnosisCode_1'].value_counts().index[1:25], train_nofraud['ClmDiagnosisCode_1'].value_counts().index[1:25]))"
   ]
  },
  {
   "cell_type": "code",
   "execution_count": 27,
   "id": "71d49203",
   "metadata": {},
   "outputs": [
    {
     "data": {
      "image/png": "[encoded data removed]",
      "text/plain": [
       "<Figure size 640x480 with 1 Axes>"
      ]
     },
     "metadata": {},
     "output_type": "display_data"
    }
   ],
   "source": [
    "# examine data for 9904 and 66, compare those with relatively higher potential fraud and vice versa\n",
    "plt.hist(train_out[train_out['ClmProcedureCode_1']==9904]['InscClaimAmtReimbursed'], bins = 3, alpha=0.5, label='9904', density=True)\n",
    "plt.hist(train_out[train_out['ClmProcedureCode_1']==66]['InscClaimAmtReimbursed'], bins = 3, alpha=0.5, label='66', density=True)\n",
    "plt.legend();\n",
    "plt.xlabel('InscClaimAmtReimbursed');"
   ]
  },
  {
   "cell_type": "code",
   "execution_count": 28,
   "id": "16ce1103",
   "metadata": {},
   "outputs": [
    {
     "data": {
      "image/png": "[encoded data removed]",
      "text/plain": [
       "<Figure size 640x480 with 1 Axes>"
      ]
     },
     "metadata": {},
     "output_type": "display_data"
    }
   ],
   "source": [
    "sns.countplot(x='ChronicCond_Diabetes',hue='PotentialFraud',data=full_train);"
   ]
  },
  {
   "cell_type": "code",
   "execution_count": 29,
   "id": "99e13872",
   "metadata": {},
   "outputs": [
    {
     "data": {
      "text/plain": [
       "PRV51459    220\n",
       "PRV53797    139\n",
       "PRV51574    120\n",
       "PRV55215     89\n",
       "PRV54895     86\n",
       "Name: Provider, dtype: int64"
      ]
     },
     "execution_count": 29,
     "metadata": {},
     "output_type": "execute_result"
    }
   ],
   "source": [
    "# examine other providers who give the same diagnoses codes and PRV51459 (diag 4019)\n",
    "out_4019 = full_train.loc[full_train['ClmDiagnosisCode_1'] == '4019']\n",
    "out_4019['Provider'].value_counts()[:5]"
   ]
  },
  {
   "cell_type": "code",
   "execution_count": 30,
   "id": "dadda79d",
   "metadata": {},
   "outputs": [
    {
     "name": "stdout",
     "output_type": "stream",
     "text": [
      "      Provider PotentialFraud\n",
      "2250  PRV53797            Yes\n",
      "     Provider PotentialFraud\n",
      "455  PRV51574            Yes\n",
      "      Provider PotentialFraud\n",
      "3363  PRV55215            Yes\n"
     ]
    }
   ],
   "source": [
    "print(train_label.loc[train_label['Provider']=='PRV53797'])\n",
    "print(train_label.loc[train_label['Provider']=='PRV51574'])\n",
    "print(train_label.loc[train_label['Provider']=='PRV55215'])\n"
   ]
  },
  {
   "cell_type": "markdown",
   "id": "641e32fd",
   "metadata": {
    "tags": []
   },
   "source": [
    "# Preprocessing"
   ]
  },
  {
   "cell_type": "code",
   "execution_count": 31,
   "id": "312c5d36",
   "metadata": {},
   "outputs": [
    {
     "data": {
      "text/plain": [
       "BeneID                                  0\n",
       "ClaimID                                 0\n",
       "ClaimStartDt                            0\n",
       "ClaimEndDt                              0\n",
       "Provider                                0\n",
       "InscClaimAmtReimbursed                  0\n",
       "AttendingPhysician                   1508\n",
       "OperatingPhysician                 443764\n",
       "OtherPhysician                     358475\n",
       "ClmDiagnosisCode_1                  10453\n",
       "ClmDiagnosisCode_2                 195606\n",
       "ClmDiagnosisCode_3                 315156\n",
       "ClmDiagnosisCode_4                 393675\n",
       "ClmDiagnosisCode_5                 446287\n",
       "ClmDiagnosisCode_6                 473819\n",
       "ClmDiagnosisCode_7                 492034\n",
       "ClmDiagnosisCode_8                 504767\n",
       "ClmDiagnosisCode_9                 516396\n",
       "ClmDiagnosisCode_10                553201\n",
       "ClmProcedureCode_1                 534901\n",
       "ClmProcedureCode_2                 552721\n",
       "ClmProcedureCode_3                 557242\n",
       "ClmProcedureCode_4                 558093\n",
       "ClmProcedureCode_5                 558202\n",
       "ClmProcedureCode_6                 558211\n",
       "DeductibleAmtPaid                     899\n",
       "ClmAdmitDiagnosisCode              412312\n",
       "DOB                                     0\n",
       "DOD                                554080\n",
       "Gender                                  0\n",
       "Race                                    0\n",
       "RenalDiseaseIndicator                   0\n",
       "State                                   0\n",
       "County                                  0\n",
       "NoOfMonths_PartACov                     0\n",
       "NoOfMonths_PartBCov                     0\n",
       "ChronicCond_Alzheimer                   0\n",
       "ChronicCond_Heartfailure                0\n",
       "ChronicCond_KidneyDisease               0\n",
       "ChronicCond_Cancer                      0\n",
       "ChronicCond_ObstrPulmonary              0\n",
       "ChronicCond_Depression                  0\n",
       "ChronicCond_Diabetes                    0\n",
       "ChronicCond_IschemicHeart               0\n",
       "ChronicCond_Osteoporasis                0\n",
       "ChronicCond_rheumatoidarthritis         0\n",
       "ChronicCond_stroke                      0\n",
       "IPAnnualReimbursementAmt                0\n",
       "IPAnnualDeductibleAmt                   0\n",
       "OPAnnualReimbursementAmt                0\n",
       "OPAnnualDeductibleAmt                   0\n",
       "PotentialFraud                          0\n",
       "Label                                   0\n",
       "Outpatient                              0\n",
       "AdmissionDt                        517737\n",
       "DischargeDt                        517737\n",
       "DiagnosisGroupCode                 517737\n",
       "dtype: int64"
      ]
     },
     "execution_count": 31,
     "metadata": {},
     "output_type": "execute_result"
    }
   ],
   "source": [
    "full_train.isnull().sum()"
   ]
  },
  {
   "cell_type": "code",
   "execution_count": 86,
   "id": "5c3d115e",
   "metadata": {},
   "outputs": [],
   "source": [
    "full_train['AdmissionDt'] = pd.to_datetime(full_train['AdmissionDt'])  \n",
    "full_train['DischargeDt'] = pd.to_datetime(full_train['DischargeDt'])  \n",
    "full_train['DOB'] = pd.to_datetime(full_train['DOB'])  \n",
    "full_train['DOD'] = pd.to_datetime(full_train['DOD'])  \n",
    "\n",
    "full_train['StayDuration'] = (full_train['DischargeDt'] - full_train['AdmissionDt']).dt.days\n",
    "full_train['StayDuration'].fillna(0.0)\n",
    "\n",
    "today = datetime(2022, 1, 1)\n",
    "full_train['DOD'].fillna(today)\n",
    "full_train['Age'] = ((today - full_train['DOB']).dt.days)/365\n",
    "\n",
    "full_train = full_train.join(pd.get_dummies(full_train['Race'], drop_first=True))\n",
    "full_train = full_train.rename(columns={2: \"Race1\", 3: \"Race2\", 5: \"Race3\"})\n",
    "\n",
    "full_train = full_train.fillna(0)\n",
    "full_train = full_train.drop_duplicates()"
   ]
  },
  {
   "cell_type": "code",
   "execution_count": 87,
   "id": "87b790f9",
   "metadata": {},
   "outputs": [],
   "source": [
    "# encode significant codes\n",
    "for code in important_clm_codes: \n",
    "    full_train['Clm'+str(code)] = 0\n",
    "    full_train.loc[full_train['ClmProcedureCode_1'].astype(float) == code, 'Clm'+str(code)] = 1\n",
    "\n",
    "for code in important_diag_codes:\n",
    "    full_train['Diag'+str(code)] = 0\n",
    "    full_train.loc[full_train['ClmDiagnosisCode_1'] == code, 'Diag'+str(code)] = 1"
   ]
  },
  {
   "cell_type": "markdown",
   "id": "ef257f3b",
   "metadata": {},
   "source": [
    "# More EDA"
   ]
  },
  {
   "cell_type": "code",
   "execution_count": 35,
   "id": "452af133",
   "metadata": {},
   "outputs": [
    {
     "data": {
      "image/png": "[encoded data removed]",
      "text/plain": [
       "<Figure size 640x480 with 1 Axes>"
      ]
     },
     "metadata": {},
     "output_type": "display_data"
    }
   ],
   "source": [
    "plt.hist(full_train['Age'], bins=10);"
   ]
  },
  {
   "cell_type": "code",
   "execution_count": 36,
   "id": "fc1c1e10",
   "metadata": {},
   "outputs": [
    {
     "data": {
      "image/png": "[encoded data removed]",
      "text/plain": [
       "<Figure size 640x480 with 1 Axes>"
      ]
     },
     "metadata": {},
     "output_type": "display_data"
    }
   ],
   "source": [
    "plt.hist(full_train[full_train['Outpatient']==0]['StayDuration'], bins=10);"
   ]
  },
  {
   "cell_type": "code",
   "execution_count": 37,
   "id": "9fb61d34",
   "metadata": {},
   "outputs": [
    {
     "data": {
      "image/png": "[encoded data removed]",
      "text/plain": [
       "<Figure size 640x480 with 1 Axes>"
      ]
     },
     "metadata": {},
     "output_type": "display_data"
    }
   ],
   "source": [
    "out_data = full_train[full_train['Outpatient']==1]\n",
    "in_data = full_train[full_train['Outpatient']==0]\n",
    "\n",
    "plt.hist(train_fraud.groupby('Provider').agg('max', numeric_only=True)['OPAnnualDeductibleAmt'], density=True, bins=10, label='fraud', alpha=0.5);\n",
    "plt.hist(train_nofraud.groupby('Provider').agg('max', numeric_only=True)['OPAnnualDeductibleAmt'], density=True, bins=10, label='no fraud', alpha=0.5);\n",
    "plt.legend();\n",
    "plt.xlabel('Mean OPAnnualDeductibleAmt');\n",
    "plt.title('Outpatients');"
   ]
  },
  {
   "cell_type": "code",
   "execution_count": 38,
   "id": "b9aba5d8",
   "metadata": {},
   "outputs": [
    {
     "data": {
      "image/png": "[encoded data removed]",
      "text/plain": [
       "<Figure size 640x480 with 1 Axes>"
      ]
     },
     "metadata": {},
     "output_type": "display_data"
    }
   ],
   "source": [
    "plt.hist(train_fraud.groupby('Provider').agg('max', numeric_only=True)['IPAnnualDeductibleAmt'], density=True, bins=10, label='fraud', alpha=0.5);\n",
    "plt.hist(train_nofraud.groupby('Provider').agg('max', numeric_only=True)['IPAnnualDeductibleAmt'], density=True, bins=10, label='no fraud',  alpha=0.5);\n",
    "plt.legend();\n",
    "plt.xlabel('Mean IPAnnualDeductibleAmt');\n",
    "plt.title('Inpatients');"
   ]
  },
  {
   "cell_type": "markdown",
   "id": "e65af1c0-3df4-4dcd-828c-21c498a4d9d0",
   "metadata": {},
   "source": [
    "# Models"
   ]
  },
  {
   "cell_type": "code",
   "execution_count": 88,
   "id": "be8541e9-d9f3-41a9-abcf-829559261e21",
   "metadata": {},
   "outputs": [
    {
     "data": {
      "text/plain": [
       "Index(['BeneID', 'ClaimID', 'ClaimStartDt', 'ClaimEndDt', 'Provider',\n",
       "       'InscClaimAmtReimbursed', 'AttendingPhysician', 'OperatingPhysician',\n",
       "       'OtherPhysician', 'ClmDiagnosisCode_1',\n",
       "       ...\n",
       "       'Diag7802', 'Diag78079', 'Diag7850', 'Diag78650', 'Diag78651',\n",
       "       'Diag78659', 'Diag79029', 'Diag7915', 'DiagV4585', 'DiagV5789'],\n",
       "      dtype='object', length=120)"
      ]
     },
     "execution_count": 88,
     "metadata": {},
     "output_type": "execute_result"
    }
   ],
   "source": [
    "full_train.columns"
   ]
  },
  {
   "cell_type": "code",
   "execution_count": 89,
   "id": "910a3bed-abd8-4f3d-b445-f1662211b360",
   "metadata": {},
   "outputs": [
    {
     "data": {
      "text/html": [
       "<div>\n",
       "<style scoped>\n",
       "    .dataframe tbody tr th:only-of-type {\n",
       "        vertical-align: middle;\n",
       "    }\n",
       "\n",
       "    .dataframe tbody tr th {\n",
       "        vertical-align: top;\n",
       "    }\n",
       "\n",
       "    .dataframe thead th {\n",
       "        text-align: right;\n",
       "    }\n",
       "</style>\n",
       "<table border=\"1\" class=\"dataframe\">\n",
       "  <thead>\n",
       "    <tr style=\"text-align: right;\">\n",
       "      <th></th>\n",
       "      <th>BeneID</th>\n",
       "      <th>ClaimID</th>\n",
       "      <th>ClaimStartDt</th>\n",
       "      <th>ClaimEndDt</th>\n",
       "      <th>Provider</th>\n",
       "      <th>InscClaimAmtReimbursed</th>\n",
       "      <th>AttendingPhysician</th>\n",
       "      <th>OperatingPhysician</th>\n",
       "      <th>OtherPhysician</th>\n",
       "      <th>ClmDiagnosisCode_1</th>\n",
       "      <th>...</th>\n",
       "      <th>Diag7802</th>\n",
       "      <th>Diag78079</th>\n",
       "      <th>Diag7850</th>\n",
       "      <th>Diag78650</th>\n",
       "      <th>Diag78651</th>\n",
       "      <th>Diag78659</th>\n",
       "      <th>Diag79029</th>\n",
       "      <th>Diag7915</th>\n",
       "      <th>DiagV4585</th>\n",
       "      <th>DiagV5789</th>\n",
       "    </tr>\n",
       "  </thead>\n",
       "  <tbody>\n",
       "    <tr>\n",
       "      <th>0</th>\n",
       "      <td>BENE11002</td>\n",
       "      <td>CLM624349</td>\n",
       "      <td>2009-10-11</td>\n",
       "      <td>2009-10-11</td>\n",
       "      <td>PRV56011</td>\n",
       "      <td>30</td>\n",
       "      <td>PHY326117</td>\n",
       "      <td>0</td>\n",
       "      <td>0</td>\n",
       "      <td>78943</td>\n",
       "      <td>...</td>\n",
       "      <td>0</td>\n",
       "      <td>0</td>\n",
       "      <td>0</td>\n",
       "      <td>0</td>\n",
       "      <td>0</td>\n",
       "      <td>0</td>\n",
       "      <td>0</td>\n",
       "      <td>0</td>\n",
       "      <td>0</td>\n",
       "      <td>0</td>\n",
       "    </tr>\n",
       "    <tr>\n",
       "      <th>0</th>\n",
       "      <td>BENE11001</td>\n",
       "      <td>CLM46614</td>\n",
       "      <td>2009-04-12</td>\n",
       "      <td>2009-04-18</td>\n",
       "      <td>PRV55912</td>\n",
       "      <td>26000</td>\n",
       "      <td>PHY390922</td>\n",
       "      <td>0</td>\n",
       "      <td>0</td>\n",
       "      <td>1970</td>\n",
       "      <td>...</td>\n",
       "      <td>0</td>\n",
       "      <td>0</td>\n",
       "      <td>0</td>\n",
       "      <td>0</td>\n",
       "      <td>0</td>\n",
       "      <td>0</td>\n",
       "      <td>0</td>\n",
       "      <td>0</td>\n",
       "      <td>0</td>\n",
       "      <td>0</td>\n",
       "    </tr>\n",
       "    <tr>\n",
       "      <th>1</th>\n",
       "      <td>BENE11004</td>\n",
       "      <td>CLM121801</td>\n",
       "      <td>2009-01-06</td>\n",
       "      <td>2009-01-06</td>\n",
       "      <td>PRV56011</td>\n",
       "      <td>40</td>\n",
       "      <td>PHY334319</td>\n",
       "      <td>0</td>\n",
       "      <td>0</td>\n",
       "      <td>71988</td>\n",
       "      <td>...</td>\n",
       "      <td>0</td>\n",
       "      <td>0</td>\n",
       "      <td>0</td>\n",
       "      <td>0</td>\n",
       "      <td>0</td>\n",
       "      <td>0</td>\n",
       "      <td>0</td>\n",
       "      <td>0</td>\n",
       "      <td>0</td>\n",
       "      <td>0</td>\n",
       "    </tr>\n",
       "    <tr>\n",
       "      <th>1</th>\n",
       "      <td>BENE17521</td>\n",
       "      <td>CLM34721</td>\n",
       "      <td>2009-01-20</td>\n",
       "      <td>2009-02-01</td>\n",
       "      <td>PRV55912</td>\n",
       "      <td>19000</td>\n",
       "      <td>PHY349293</td>\n",
       "      <td>PHY370861</td>\n",
       "      <td>PHY363291</td>\n",
       "      <td>4240</td>\n",
       "      <td>...</td>\n",
       "      <td>0</td>\n",
       "      <td>0</td>\n",
       "      <td>0</td>\n",
       "      <td>0</td>\n",
       "      <td>0</td>\n",
       "      <td>0</td>\n",
       "      <td>0</td>\n",
       "      <td>0</td>\n",
       "      <td>0</td>\n",
       "      <td>0</td>\n",
       "    </tr>\n",
       "    <tr>\n",
       "      <th>2</th>\n",
       "      <td>BENE11004</td>\n",
       "      <td>CLM150998</td>\n",
       "      <td>2009-01-22</td>\n",
       "      <td>2009-01-22</td>\n",
       "      <td>PRV56011</td>\n",
       "      <td>200</td>\n",
       "      <td>PHY403831</td>\n",
       "      <td>0</td>\n",
       "      <td>0</td>\n",
       "      <td>82382</td>\n",
       "      <td>...</td>\n",
       "      <td>0</td>\n",
       "      <td>0</td>\n",
       "      <td>0</td>\n",
       "      <td>0</td>\n",
       "      <td>0</td>\n",
       "      <td>0</td>\n",
       "      <td>0</td>\n",
       "      <td>0</td>\n",
       "      <td>0</td>\n",
       "      <td>0</td>\n",
       "    </tr>\n",
       "  </tbody>\n",
       "</table>\n",
       "<p>5 rows × 120 columns</p>\n",
       "</div>"
      ],
      "text/plain": [
       "      BeneID    ClaimID ClaimStartDt  ClaimEndDt  Provider  \\\n",
       "0  BENE11002  CLM624349   2009-10-11  2009-10-11  PRV56011   \n",
       "0  BENE11001   CLM46614   2009-04-12  2009-04-18  PRV55912   \n",
       "1  BENE11004  CLM121801   2009-01-06  2009-01-06  PRV56011   \n",
       "1  BENE17521   CLM34721   2009-01-20  2009-02-01  PRV55912   \n",
       "2  BENE11004  CLM150998   2009-01-22  2009-01-22  PRV56011   \n",
       "\n",
       "   InscClaimAmtReimbursed AttendingPhysician OperatingPhysician  \\\n",
       "0                      30          PHY326117                  0   \n",
       "0                   26000          PHY390922                  0   \n",
       "1                      40          PHY334319                  0   \n",
       "1                   19000          PHY349293          PHY370861   \n",
       "2                     200          PHY403831                  0   \n",
       "\n",
       "  OtherPhysician ClmDiagnosisCode_1  ... Diag7802 Diag78079 Diag7850  \\\n",
       "0              0              78943  ...        0         0        0   \n",
       "0              0               1970  ...        0         0        0   \n",
       "1              0              71988  ...        0         0        0   \n",
       "1      PHY363291               4240  ...        0         0        0   \n",
       "2              0              82382  ...        0         0        0   \n",
       "\n",
       "  Diag78650 Diag78651 Diag78659 Diag79029 Diag7915 DiagV4585  DiagV5789  \n",
       "0         0         0         0         0        0         0          0  \n",
       "0         0         0         0         0        0         0          0  \n",
       "1         0         0         0         0        0         0          0  \n",
       "1         0         0         0         0        0         0          0  \n",
       "2         0         0         0         0        0         0          0  \n",
       "\n",
       "[5 rows x 120 columns]"
      ]
     },
     "execution_count": 89,
     "metadata": {},
     "output_type": "execute_result"
    }
   ],
   "source": [
    "full_train.head()"
   ]
  },
  {
   "cell_type": "code",
   "execution_count": 90,
   "id": "85165348-275c-4523-8440-ccc02f80ba96",
   "metadata": {},
   "outputs": [],
   "source": [
    "full_train.to_csv('data/full_train.csv')"
   ]
  },
  {
   "cell_type": "code",
   "execution_count": 3,
   "id": "d666d505-c85a-42be-b2a6-a35ea4217218",
   "metadata": {},
   "outputs": [
    {
     "name": "stderr",
     "output_type": "stream",
     "text": [
      "/tmp/ipykernel_35511/1231026081.py:1: DtypeWarning: Columns (55,56,57) have mixed types. Specify dtype option on import or set low_memory=False.\n",
      "  full_train = pd.read_csv('data/full_train.csv')\n"
     ]
    }
   ],
   "source": [
    "full_train = pd.read_csv('data/full_train.csv')"
   ]
  },
  {
   "cell_type": "code",
   "execution_count": 4,
   "id": "188d916c-a22e-4cbf-99b1-491c195bc2f3",
   "metadata": {},
   "outputs": [
    {
     "data": {
      "text/plain": [
       "(581389, 121)"
      ]
     },
     "execution_count": 4,
     "metadata": {},
     "output_type": "execute_result"
    }
   ],
   "source": [
    "full_train.shape"
   ]
  },
  {
   "cell_type": "code",
   "execution_count": 5,
   "id": "e3b907a3",
   "metadata": {},
   "outputs": [
    {
     "data": {
      "text/plain": [
       "0         0\n",
       "1         0\n",
       "2         0\n",
       "3         0\n",
       "4         0\n",
       "         ..\n",
       "581384    0\n",
       "581385    0\n",
       "581386    Y\n",
       "581387    0\n",
       "581388    0\n",
       "Name: RenalDiseaseIndicator, Length: 581389, dtype: object"
      ]
     },
     "execution_count": 5,
     "metadata": {},
     "output_type": "execute_result"
    }
   ],
   "source": [
    "# simple SLR \n",
    "columns = ['InscClaimAmtReimbursed','Gender', 'Race',\n",
    "       'RenalDiseaseIndicator', 'NoOfMonths_PartACov',\n",
    "       'NoOfMonths_PartBCov', 'ChronicCond_Alzheimer',\n",
    "       'ChronicCond_Heartfailure', 'ChronicCond_KidneyDisease',\n",
    "       'ChronicCond_Cancer', 'ChronicCond_ObstrPulmonary',\n",
    "       'ChronicCond_Depression', 'ChronicCond_Diabetes',\n",
    "       'ChronicCond_IschemicHeart', 'ChronicCond_Osteoporasis',\n",
    "       'ChronicCond_rheumatoidarthritis', 'ChronicCond_stroke',\n",
    "       'IPAnnualReimbursementAmt', 'IPAnnualDeductibleAmt',\n",
    "       'OPAnnualReimbursementAmt', 'OPAnnualDeductibleAmt',\n",
    "       'Outpatient', 'StayDuration', 'Age', 'Race1', 'Race2', 'Race3',\n",
    "        'Clm66.0', 'Clm309.0', 'Clm387.0', 'Clm3491.0', 'Clm3722.0',\n",
    "       'Clm3772.0', 'Clm3812.0', 'Clm3893.0', 'Clm3950.0', 'Clm3995.0',\n",
    "       'Clm4513.0', 'Clm4516.0', 'Clm4523.0', 'Clm4525.0', 'Clm5123.0',\n",
    "       'Clm7935.0', 'Clm8108.0', 'Clm8151.0', 'Clm8152.0', 'Clm8154.0',\n",
    "       'Clm8622.0', 'Clm8872.0', 'Clm9339.0', 'Clm9390.0', 'Clm9671.0',\n",
    "       'Clm9672.0', 'Clm9921.0', 'Diag185', 'Diag25000', 'Diag2720',\n",
    "       'Diag2721', 'Diag2722', 'Diag2723', 'Diag2724', 'Diag4011', 'Diag41401',\n",
    "       'Diag4271', 'Diag42731', 'Diag42732', 'Diag42761', 'Diag42769',\n",
    "       'Diag42781', 'Diag42789', 'Diag4279', 'Diag4280', 'Diag486',\n",
    "       'Diag49121', 'Diag5990', 'Diag7802', 'Diag78079', 'Diag7850',\n",
    "       'Diag78650', 'Diag78651', 'Diag78659', 'Diag79029', 'Diag7915',\n",
    "       'DiagV4585', 'DiagV5789']\n",
    "full_train[columns]['RenalDiseaseIndicator']"
   ]
  },
  {
   "cell_type": "code",
   "execution_count": 6,
   "id": "87216057",
   "metadata": {},
   "outputs": [
    {
     "name": "stdout",
     "output_type": "stream",
     "text": [
      "(581389, 85)\n",
      "(581389,)\n"
     ]
    }
   ],
   "source": [
    "full_train.loc[ full_train['RenalDiseaseIndicator'] == 'Y', 'RenalDiseaseIndicator'] = 1\n",
    "full_train.loc[ full_train['RenalDiseaseIndicator'] == '0', 'RenalDiseaseIndicator'] = 1\n",
    "full_train['RenalDiseaseIndicator'] = pd.to_numeric(full_train['RenalDiseaseIndicator'])\n",
    "X = full_train[columns]\n",
    "y = full_train['Label']\n",
    "print(X.shape)\n",
    "print(y.shape)"
   ]
  },
  {
   "cell_type": "code",
   "execution_count": 7,
   "id": "c6096a31",
   "metadata": {},
   "outputs": [
    {
     "data": {
      "text/plain": [
       "0.6134854825045568"
      ]
     },
     "execution_count": 7,
     "metadata": {},
     "output_type": "execute_result"
    }
   ],
   "source": [
    "X_train, X_test, y_train, y_test = train_test_split(X, y, test_size=0.33, random_state=42)\n",
    "\n",
    "logreg = LogisticRegression(random_state=0).fit(X_train, y_train)\n",
    "logreg_preds = logreg.predict(X_train)\n",
    "\n",
    "logreg.score(X_train, y_train)"
   ]
  },
  {
   "cell_type": "code",
   "execution_count": 45,
   "id": "90274f9d",
   "metadata": {},
   "outputs": [
    {
     "data": {
      "text/plain": [
       "(0.6016074160694629, 0.5093990012803659, 0.4139757756230674, None)"
      ]
     },
     "execution_count": 45,
     "metadata": {},
     "output_type": "execute_result"
    }
   ],
   "source": [
    "precision_recall_fscore_support(y_train, logreg_preds, average='macro')"
   ]
  },
  {
   "cell_type": "code",
   "execution_count": 48,
   "id": "8aed1ecd",
   "metadata": {},
   "outputs": [
    {
     "name": "stdout",
     "output_type": "stream",
     "text": [
      "0.6488672490180507\n"
     ]
    },
    {
     "data": {
      "text/plain": [
       "(0.6585821948053456, 0.5533511296296928, 0.5099621322017781, None)"
      ]
     },
     "execution_count": 48,
     "metadata": {},
     "output_type": "execute_result"
    }
   ],
   "source": [
    "# XGB \n",
    "xgb = XGBClassifier().fit(X_train, y_train)\n",
    "xgb_preds = xgb.predict(X_train)\n",
    "accuracy = accuracy_score(y_train, xgb_preds)\n",
    "\n",
    "print(accuracy)\n",
    "precision_recall_fscore_support(y_train, xgb_preds, average='macro')"
   ]
  },
  {
   "cell_type": "code",
   "execution_count": 49,
   "id": "7cf8fa40-2b46-4484-a01d-ea069aa58db4",
   "metadata": {},
   "outputs": [
    {
     "data": {
      "text/plain": [
       "array([0.00347738, 0.00634662, 0.01724059, 0.        , 0.00651361,\n",
       "       0.00866806, 0.00637579, 0.0075376 , 0.00765481, 0.00639473,\n",
       "       0.00620897, 0.00816486, 0.00871588, 0.00767193, 0.00735635,\n",
       "       0.00623005, 0.00818267, 0.00846213, 0.00751899, 0.00971416,\n",
       "       0.00970701, 0.6272076 , 0.00487492, 0.00847191, 0.        ,\n",
       "       0.00321806, 0.00151985, 0.00487958, 0.00426901, 0.00091045,\n",
       "       0.        , 0.00349822, 0.00296866, 0.00505195, 0.        ,\n",
       "       0.00540421, 0.00638128, 0.        , 0.        , 0.00824407,\n",
       "       0.        , 0.0077261 , 0.00394121, 0.00396182, 0.        ,\n",
       "       0.00198528, 0.00562818, 0.00337458, 0.        , 0.00286923,\n",
       "       0.00489939, 0.00264213, 0.00261498, 0.00246245, 0.00370426,\n",
       "       0.00549078, 0.00167829, 0.00498071, 0.        , 0.        ,\n",
       "       0.00134031, 0.00720327, 0.00686051, 0.00131658, 0.00424709,\n",
       "       0.00704547, 0.00261499, 0.00666296, 0.        , 0.00361298,\n",
       "       0.00565393, 0.00369794, 0.0017629 , 0.01098128, 0.00289025,\n",
       "       0.        , 0.        , 0.00495686, 0.00947525, 0.00600215,\n",
       "       0.0062505 , 0.00442353], dtype=float32)"
      ]
     },
     "execution_count": 49,
     "metadata": {},
     "output_type": "execute_result"
    }
   ],
   "source": [
    "xgb.feature_importances_"
   ]
  },
  {
   "cell_type": "code",
   "execution_count": 52,
   "id": "03d512d2",
   "metadata": {},
   "outputs": [
    {
     "data": {
      "image/png": "[encoded data removed]",
      "text/plain": [
       "<Figure size 640x480 with 1 Axes>"
      ]
     },
     "metadata": {},
     "output_type": "display_data"
    }
   ],
   "source": [
    "plt.bar(range(len(xgb.feature_importances_)), xgb.feature_importances_)\n",
    "plt.show()\n"
   ]
  },
  {
   "cell_type": "code",
   "execution_count": 54,
   "id": "5feeb880-d8a7-4299-9c0b-f5da5986ac08",
   "metadata": {},
   "outputs": [
    {
     "data": {
      "text/plain": [
       "'Outpatient'"
      ]
     },
     "execution_count": 54,
     "metadata": {},
     "output_type": "execute_result"
    }
   ],
   "source": [
    "columns[np.argmax(xgb.feature_importances_)]"
   ]
  },
  {
   "cell_type": "code",
   "execution_count": 8,
   "id": "802d584c-b7ee-4d4a-9a06-aea74929b99e",
   "metadata": {},
   "outputs": [
    {
     "name": "stdout",
     "output_type": "stream",
     "text": [
      "0.6541331122690668\n"
     ]
    },
    {
     "data": {
      "text/plain": [
       "(0.7152859873386093, 0.5417585440386207, 0.47919435638079766, None)"
      ]
     },
     "execution_count": 8,
     "metadata": {},
     "output_type": "execute_result"
    }
   ],
   "source": [
    "outpatient_data = full_train[full_train['Outpatient']==1]\n",
    "\n",
    "X = outpatient_data[columns]\n",
    "y = outpatient_data['Label']\n",
    "X_train, X_test, y_train, y_test = train_test_split(X, y, test_size=0.33, random_state=42)\n",
    "\n",
    "# XGB \n",
    "xgb = XGBClassifier().fit(X_train, y_train)\n",
    "xgb_preds = xgb.predict(X_train)\n",
    "accuracy = accuracy_score(y_train, xgb_preds)\n",
    "\n",
    "print(accuracy)\n",
    "precision_recall_fscore_support(y_train, xgb_preds, average='macro')"
   ]
  },
  {
   "cell_type": "code",
   "execution_count": 9,
   "id": "ca87692a-4693-4010-9e45-d77068362618",
   "metadata": {},
   "outputs": [
    {
     "data": {
      "image/png": "[encoded data removed]",
      "text/plain": [
       "<Figure size 640x480 with 1 Axes>"
      ]
     },
     "metadata": {},
     "output_type": "display_data"
    }
   ],
   "source": [
    "plt.bar(range(len(xgb.feature_importances_)), xgb.feature_importances_)\n",
    "plt.show()"
   ]
  },
  {
   "cell_type": "code",
   "execution_count": 10,
   "id": "257cb7b7-8e6d-4f03-a220-240d1a3bb404",
   "metadata": {},
   "outputs": [
    {
     "data": {
      "text/plain": [
       "'Race3'"
      ]
     },
     "execution_count": 10,
     "metadata": {},
     "output_type": "execute_result"
    }
   ],
   "source": [
    "columns[np.argmax(xgb.feature_importances_)]"
   ]
  },
  {
   "cell_type": "code",
   "execution_count": 61,
   "id": "a3b09e93-04cb-4d75-8b13-4b3bf276e6a5",
   "metadata": {},
   "outputs": [
    {
     "name": "stdout",
     "output_type": "stream",
     "text": [
      "0.7368440461702991\n"
     ]
    },
    {
     "data": {
      "text/plain": [
       "(0.7853693800524291, 0.6961569571007373, 0.6959677812147291, None)"
      ]
     },
     "execution_count": 61,
     "metadata": {},
     "output_type": "execute_result"
    }
   ],
   "source": [
    "inpatient_data = full_train[full_train['Outpatient']==0]\n",
    "\n",
    "X = inpatient_data[columns]\n",
    "y = inpatient_data['Label']\n",
    "X_train, X_test, y_train, y_test = train_test_split(X, y, test_size=0.33, random_state=42)\n",
    "\n",
    "# XGB \n",
    "xgb = XGBClassifier().fit(X_train, y_train)\n",
    "xgb_preds = xgb.predict(X_train)\n",
    "accuracy = accuracy_score(y_train, xgb_preds)\n",
    "\n",
    "print(accuracy)\n",
    "precision_recall_fscore_support(y_train, xgb_preds, average='macro')"
   ]
  },
  {
   "cell_type": "code",
   "execution_count": 62,
   "id": "98edae3c-8f91-47f2-9400-629a6eb47ed8",
   "metadata": {},
   "outputs": [
    {
     "data": {
      "image/png": "[encoded data removed]",
      "text/plain": [
       "<Figure size 640x480 with 1 Axes>"
      ]
     },
     "metadata": {},
     "output_type": "display_data"
    }
   ],
   "source": [
    "plt.bar(range(len(xgb.feature_importances_)), xgb.feature_importances_)\n",
    "plt.show()"
   ]
  },
  {
   "cell_type": "code",
   "execution_count": 63,
   "id": "698ce81c-4b2d-4305-8b05-5ea94a349135",
   "metadata": {},
   "outputs": [
    {
     "data": {
      "text/plain": [
       "'Clm5123.0'"
      ]
     },
     "execution_count": 63,
     "metadata": {},
     "output_type": "execute_result"
    }
   ],
   "source": [
    "columns[np.argmax(xgb.feature_importances_)]"
   ]
  },
  {
   "cell_type": "code",
   "execution_count": 18,
   "id": "1e541707-e53a-4642-b73f-cfbecc5739e9",
   "metadata": {},
   "outputs": [
    {
     "data": {
      "text/plain": [
       "PRV56416    7\n",
       "PRV51501    6\n",
       "PRV56560    5\n",
       "PRV55018    4\n",
       "PRV52903    4\n",
       "           ..\n",
       "PRV55049    1\n",
       "PRV52843    1\n",
       "PRV53786    1\n",
       "PRV53269    1\n",
       "PRV53397    1\n",
       "Name: Provider, Length: 115, dtype: int64"
      ]
     },
     "execution_count": 18,
     "metadata": {},
     "output_type": "execute_result"
    }
   ],
   "source": [
    "inpatient_data[(inpatient_data['Clm5123.0']==1) & (inpatient_data['Label']==1)]['Provider'].value_counts()"
   ]
  },
  {
   "cell_type": "code",
   "execution_count": 19,
   "id": "818a8abc-9246-4d93-9ac5-6772c1091058",
   "metadata": {},
   "outputs": [
    {
     "data": {
      "text/plain": [
       "PRV52889    4\n",
       "PRV55978    3\n",
       "PRV54324    3\n",
       "PRV52611    2\n",
       "PRV56456    2\n",
       "           ..\n",
       "PRV56478    1\n",
       "PRV54971    1\n",
       "PRV52881    1\n",
       "PRV53932    1\n",
       "PRV52850    1\n",
       "Name: Provider, Length: 120, dtype: int64"
      ]
     },
     "execution_count": 19,
     "metadata": {},
     "output_type": "execute_result"
    }
   ],
   "source": [
    "inpatient_data[(inpatient_data['Clm5123.0']==1) & (inpatient_data['Label']==0)]['Provider'].value_counts()"
   ]
  },
  {
   "cell_type": "code",
   "execution_count": null,
   "id": "a15f2c88-14f1-4e04-9f9c-1ed26f3233bc",
   "metadata": {},
   "outputs": [],
   "source": []
  }
 ],
 "metadata": {
  "kernelspec": {
   "display_name": "Python 3 (ipykernel)",
   "language": "python",
   "name": "python3"
  },
  "language_info": {
   "codemirror_mode": {
    "name": "ipython",
    "version": 3
   },
   "file_extension": ".py",
   "mimetype": "text/x-python",
   "name": "python",
   "nbconvert_exporter": "python",
   "pygments_lexer": "ipython3",
   "version": "3.10.8"
  }
 },
 "nbformat": 4,
 "nbformat_minor": 5
}
